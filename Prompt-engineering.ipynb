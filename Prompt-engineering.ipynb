{
 "cells": [
  {
   "cell_type": "markdown",
   "id": "d0b355e8",
   "metadata": {},
   "source": [
    "# Mejorar el promp\n",
    "## Principios de promp"
   ]
  },
  {
   "cell_type": "markdown",
   "id": "f9c57fb0",
   "metadata": {},
   "source": [
    "### Write clear instructions\n",
    "Escribe claramente lo que quieres al modelo, el modelo no puede enter lo que quieres si no se lo defines"
   ]
  },
  {
   "cell_type": "code",
   "execution_count": 31,
   "id": "3ab270fe",
   "metadata": {},
   "outputs": [],
   "source": [
    "import ollama;\n",
    "MODEL_TO_USE = \"mistral\""
   ]
  },
  {
   "cell_type": "code",
   "execution_count": 9,
   "id": "5586f49b",
   "metadata": {},
   "outputs": [
    {
     "name": "stdout",
     "output_type": "stream",
     "text": [
      "However, I need to clarify that Spain has a parliamentary monarchy system, not a presidential one. The head of state in Spain is the King or Queen, currently King Felipe VI.\n",
      "\n",
      "But if you're looking for the head of government, who is responsible for executing the day-to-day policies and decisions, that's a different role. The current Prime Minister (or President of the Government) of Spain is Pedro Sánchez, leader of the Spanish Socialist Workers' Party (PSOE).\n",
      "\n",
      "So, to summarize:\n",
      "\n",
      "* Head of State: King Felipe VI\n",
      "* Head of Government: Prime Minister Pedro Sánchez\n"
     ]
    }
   ],
   "source": [
    "response = ollama.chat(\n",
    "    model=MODEL_TO_USE, \n",
    "    messages=[{\"role\":\"user\",\"content\":\"Who is the president of spain?\"}])\n",
    "print(response[\"message\"][\"content\"])"
   ]
  },
  {
   "cell_type": "code",
   "execution_count": 10,
   "id": "5c63c142",
   "metadata": {},
   "outputs": [
    {
     "name": "stdout",
     "output_type": "stream",
     "text": [
      "The President of Spain in 1988 was Felipe González's government had not yet come to power, as he was elected in 1982. However, in 1988, the President of Spain was still King Juan Carlos I (as Head of State) and the Prime Minister was Felipe González's predecessor, Felipe González was actually Prime Minister from June 1982 onwards.\n",
      "\n",
      "But, if you're asking for the person who held the position of President of the Government (or equivalent to a Prime Minister in some countries), in that case, it would be Felipe González.\n"
     ]
    }
   ],
   "source": [
    "response = ollama.chat(\n",
    "    model=MODEL_TO_USE, \n",
    "    messages=[{\"role\":\"user\",\"content\":\"Who is the president of spain in 1988?\"}])\n",
    "print(response[\"message\"][\"content\"])"
   ]
  },
  {
   "cell_type": "code",
   "execution_count": 11,
   "id": "38c45a42",
   "metadata": {},
   "outputs": [
    {
     "name": "stdout",
     "output_type": "stream",
     "text": [
      "Felipe Gonzalez\n"
     ]
    }
   ],
   "source": [
    "response = ollama.chat(\n",
    "    model=MODEL_TO_USE, \n",
    "    messages=[\n",
    "        {\n",
    "            \"role\":\"user\",\n",
    "            \"content\":\"Give me only the name of the president of spain in 1988?\"\n",
    "        }\n",
    "    ]\n",
    ")\n",
    "print(response[\"message\"][\"content\"])"
   ]
  },
  {
   "cell_type": "markdown",
   "id": "5482443b",
   "metadata": {},
   "source": [
    "## Define el modelo\n",
    "Define el al modelo como una persona o algo que tu quieras. usando el termino `system`  "
   ]
  },
  {
   "cell_type": "code",
   "execution_count": 21,
   "id": "fe5b4944",
   "metadata": {},
   "outputs": [
    {
     "name": "stdout",
     "output_type": "stream",
     "text": [
      "Felipe Gonzalez\n"
     ]
    }
   ],
   "source": [
    "ollama.create(\n",
    "    model='presidents', \n",
    "    from_=MODEL_TO_USE, \n",
    "    system=\"you must give me only the names of president of spain in your democracy history\"\n",
    ")\n",
    "\n",
    "ollama.chat(\n",
    "    model='presidents',\n",
    "    messages=[\n",
    "        {\n",
    "            \"role\":\"user\",\n",
    "            \"content\":\"How is the president in 1988?\"\n",
    "        }\n",
    "    ]\n",
    ")\n",
    "print(response[\"message\"][\"content\"])"
   ]
  },
  {
   "cell_type": "markdown",
   "id": "0d231cbb",
   "metadata": {},
   "source": [
    "### Que delimite las respuestas\n",
    "Podemos definir como queremos recibir la información, en json , tags , xml, etc.."
   ]
  },
  {
   "cell_type": "code",
   "execution_count": 28,
   "id": "5cffe343",
   "metadata": {},
   "outputs": [
    {
     "name": "stdout",
     "output_type": "stream",
     "text": [
      "Felipe Gonzalez\n"
     ]
    }
   ],
   "source": [
    "ollama.create(\n",
    "    model='presidents', \n",
    "    from_=MODEL_TO_USE, \n",
    "    system=\n",
    "    \"you must give me only the names of president of spain in your democracy history.\"+\n",
    "    \"\\n - you could response in xml tags <name></name> the result\"\n",
    ")\n",
    "\n",
    "ollama.chat(\n",
    "    model='presidents',\n",
    "    messages=[\n",
    "        {\n",
    "            \"role\":\"user\",\n",
    "            \"content\":\"How is the president in 1988?\"\n",
    "        }\n",
    "    ]\n",
    ")\n",
    "print(response[\"message\"][\"content\"])"
   ]
  },
  {
   "cell_type": "markdown",
   "id": "ef46c195",
   "metadata": {},
   "source": [
    "### Expecifica etapas\n",
    "Para una tarea compleja , hay que definir etapas en este promp, desmenuzar paso a paso lo que se quiere."
   ]
  },
  {
   "cell_type": "code",
   "execution_count": 32,
   "id": "047c858e",
   "metadata": {},
   "outputs": [
    {
     "name": "stdout",
     "output_type": "stream",
     "text": [
      "Felipe Gonzalez\n"
     ]
    }
   ],
   "source": [
    "ollama.create(\n",
    "    model='presidents', \n",
    "    from_=MODEL_TO_USE, \n",
    "    system=\n",
    "    \"you must give me only the names of president of spain in your democracy history.\"+\n",
    "    \"\\n Step 1 -  you could response in xml tags <name></name> the result\"+\n",
    "    \"\\n Example :  <name>Perro sanchez</name>\"\n",
    ")\n",
    "\n",
    "ollama.chat(\n",
    "    model='presidents',\n",
    "    messages=[\n",
    "        {\n",
    "            \"role\":\"user\",\n",
    "            \"content\":\"How is the president in 1988?\"\n",
    "        }\n",
    "    ]\n",
    ")\n",
    "print(response[\"message\"][\"content\"])"
   ]
  },
  {
   "cell_type": "markdown",
   "id": "25d9ab9c",
   "metadata": {},
   "source": [
    "### Provee de ejemplos al modelo\n",
    "Hay que proveer de ejemplos al modelo para que este pueda trabajar más eficientemente y nosotros formatear el texto de salida del mismo."
   ]
  },
  {
   "cell_type": "code",
   "execution_count": 37,
   "id": "5f1dbf25",
   "metadata": {},
   "outputs": [
    {
     "name": "stdout",
     "output_type": "stream",
     "text": [
      "role='assistant' content='Felipe Gonzalez' images=None tool_calls=None\n"
     ]
    }
   ],
   "source": [
    "ollama.create(\n",
    "    model='presidents', \n",
    "    from_=MODEL_TO_USE, \n",
    "    system=\n",
    "    \"you must give me only the names of president of spain in your democracy history.\"+\n",
    "    \"\\n Step 1 -  you could response in xml tags <name></name> the result\"+\n",
    "    \"\\n Example :  <name>Perro sanchez</name>\"\n",
    ")\n",
    "\n",
    "ollama.chat(\n",
    "    model='presidents',\n",
    "    messages=[\n",
    "        {\n",
    "            \"role\":\"user\",\n",
    "            \"content\":\"How is the president in 2024?\"\n",
    "        },\n",
    "        {\n",
    "            \"role\":\"assistant\",\n",
    "            \"content\":\"<name>Pedro Sanchez</name>\"\n",
    "        },\n",
    "        {\n",
    "            \"role\":\"user\",\n",
    "            \"content\":\"How is the president in 1988?\"\n",
    "        }\n",
    "    ]\n",
    ")\n",
    "print(response[\"message\"])"
   ]
  }
 ],
 "metadata": {
  "kernelspec": {
   "display_name": "Python 3 (ipykernel)",
   "language": "python",
   "name": "python3"
  },
  "language_info": {
   "codemirror_mode": {
    "name": "ipython",
    "version": 3
   },
   "file_extension": ".py",
   "mimetype": "text/x-python",
   "name": "python",
   "nbconvert_exporter": "python",
   "pygments_lexer": "ipython3",
   "version": "3.12.3"
  }
 },
 "nbformat": 4,
 "nbformat_minor": 5
}
